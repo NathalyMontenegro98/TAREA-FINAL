{
  "metadata": {
    "kernelspec": {
      "name": "python",
      "display_name": "Pyolite",
      "language": "python"
    },
    "language_info": {
      "codemirror_mode": {
        "name": "python",
        "version": 3
      },
      "file_extension": ".py",
      "mimetype": "text/x-python",
      "name": "python",
      "nbconvert_exporter": "python",
      "pygments_lexer": "ipython3",
      "version": "3.8"
    }
  },
  "nbformat_minor": 4,
  "nbformat": 4,
  "cells": [
    {
      "cell_type": "markdown",
      "source": "<center>\n    <img src=\"https://cf-courses-data.s3.us.cloud-object-storage.appdomain.cloud/IBMDeveloperSkillsNetwork-DS0105EN-SkillsNetwork/labs/Module2/images/SN_web_lightmode.png\" width=\"300\" alt=\"cognitiveclass.ai logo\"  />\n</center>\n",
      "metadata": {}
    },
    {
      "cell_type": "markdown",
      "source": "# My Jupyter Notebook on IBM Watson Studio\n",
      "metadata": {}
    },
    {
      "cell_type": "markdown",
      "source": "**Nathaly Gabriela Montenegro Rosero** ",
      "metadata": {}
    },
    {
      "cell_type": "markdown",
      "source": "*I am interested in data science because everything in this world is quantifiable, if we can quantify it we can model it and if we can model it we can precede it. Data brings us closer to the future and prevents us from making big mistakes*",
      "metadata": {}
    },
    {
      "cell_type": "markdown",
      "source": "### In the next row you can see how to create variables and assign them any value so that they can be added later",
      "metadata": {}
    },
    {
      "cell_type": "code",
      "source": "x = 3\ny = 9\na = x+y\na",
      "metadata": {
        "trusted": true
      },
      "execution_count": 6,
      "outputs": [
        {
          "execution_count": 6,
          "output_type": "execute_result",
          "data": {
            "text/plain": "12"
          },
          "metadata": {}
        }
      ]
    },
    {
      "cell_type": "markdown",
      "source": "* uno\n* dos\n* tres\n* cuatro\n\nPares  | Impares\n------ | ------\n2 y 4  | 1 y 3\n\n[Números](#https://es.wikipedia.org/wiki/Anexo:N%C3%BAmeros)",
      "metadata": {}
    },
    {
      "cell_type": "code",
      "source": "",
      "metadata": {},
      "execution_count": null,
      "outputs": []
    }
  ]
}